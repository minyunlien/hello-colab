{
  "nbformat": 4,
  "nbformat_minor": 0,
  "metadata": {
    "colab": {
      "provenance": [],
      "authorship_tag": "ABX9TyOWab6VugjwVAbLY+qRUOLY",
      "include_colab_link": true
    },
    "kernelspec": {
      "name": "python3",
      "display_name": "Python 3"
    },
    "language_info": {
      "name": "python"
    }
  },
  "cells": [
    {
      "cell_type": "markdown",
      "metadata": {
        "id": "view-in-github",
        "colab_type": "text"
      },
      "source": [
        "<a href=\"https://colab.research.google.com/github/minyunlien/hello-colab/blob/main/Basic_Task07.ipynb\" target=\"_parent\"><img src=\"https://colab.research.google.com/assets/colab-badge.svg\" alt=\"Open In Colab\"/></a>"
      ]
    },
    {
      "cell_type": "markdown",
      "source": [],
      "metadata": {
        "id": "sPGlHUNhRtnq"
      }
    },
    {
      "cell_type": "markdown",
      "source": [
        "Task #07 作業#01 【實作題】口罩資料 API 串接\n",
        "\n",
        "1. 首先試著直接用瀏覽器打開網址，請解釋這個 API 中有哪些資料？這樣資料會想到什麼樣的應用呢？\n",
        "\n",
        "Ans:\n",
        "有藥局的id,名稱,電話,地址,看診時間,成人&小孩口罩數量,更新時間,county, town,cunli, coordinates\n",
        "可以查詢每個country/town有多少藥局,有多少藥局還有口罩,某個時間點,還有多少藥局可以買到口罩\n",
        "\n",
        "2. 請建立一個 Github Repo 與 Colab 綁定（名稱自訂），並且根據以下範例完成第一步驟的資料收集後 Commit 第一個版本："
      ],
      "metadata": {
        "id": "f2S14v3ER8EE"
      }
    },
    {
      "cell_type": "markdown",
      "source": [],
      "metadata": {
        "id": "hwUwZXt4R5vs"
      }
    },
    {
      "cell_type": "code",
      "source": [
        "import requests\n",
        "import json\n",
        "\n",
        "url = 'https://raw.githubusercontent.com/kiang/pharmacies/master/json/points.json'\n",
        "\n",
        "d = requests.get(url)\n",
        "d_json =d.json()\n",
        "data = d_json\n",
        "\n"
      ],
      "metadata": {
        "id": "aCda3t-wSZAD"
      },
      "execution_count": 6,
      "outputs": []
    },
    {
      "cell_type": "markdown",
      "source": [
        "3. 接下來，請你將取回來的資料利用 Python 語法計算各地區的藥局數量，完成後 Commit 成第二個版本："
      ],
      "metadata": {
        "id": "DnnirV1NTxkU"
      }
    },
    {
      "cell_type": "code",
      "source": [
        "med_count = {}\n",
        "\n",
        "for x in data['features']:\n",
        "    county = x['properties']['county']\n",
        "    if county not in med_count:\n",
        "        med_count[county] = 1\n",
        "    else:\n",
        "        med_count[county] +=1\n",
        "print(med_count)"
      ],
      "metadata": {
        "colab": {
          "base_uri": "https://localhost:8080/"
        },
        "id": "MuNVTSlxTzSj",
        "outputId": "93b7f911-a605-4d69-873a-29c808268b80"
      },
      "execution_count": 7,
      "outputs": [
        {
          "output_type": "stream",
          "name": "stdout",
          "text": [
            "{'臺北市': 339, '': 49, '高雄市': 422, '臺中市': 420, '臺南市': 271, '基隆市': 57, '新竹市': 39, '嘉義市': 67, '新北市': 501, '桃園市': 264, '新竹縣': 46, '宜蘭縣': 76, '苗栗縣': 56, '彰化縣': 179, '南投縣': 67, '雲林縣': 129, '嘉義縣': 84, '屏東縣': 140, '澎湖縣': 11, '花蓮縣': 46, '臺東縣': 23, '金門縣': 6, '連江縣': 1}\n"
          ]
        }
      ]
    },
    {
      "cell_type": "markdown",
      "source": [
        "4. 接下來請你計算出每個地區的成人剩餘口罩數量，並且將結果從大到小排列，完成後 Commit 第三個版本："
      ],
      "metadata": {
        "id": "QtlPwhMcT_Uu"
      }
    },
    {
      "cell_type": "code",
      "source": [
        "mask_count = {}\n",
        "\n",
        "for y in data['features']:\n",
        "    county1 = y['properties']['county']\n",
        "    if county1 not in mask_count:\n",
        "        # mask_count[county1] = 0\n",
        "        mask_count[county1] = y['properties']['mask_adult']\n",
        "    else:\n",
        "        mask_count[county1] += y['properties']['mask_adult']\n",
        "\n",
        "# 將結果從大到小排列\n",
        "mask_count = dict(sorted(mask_count.items(), key=lambda item: item[1], reverse=True))\n",
        "\n",
        "print(mask_count)"
      ],
      "metadata": {
        "id": "e--DYelIUCmj",
        "outputId": "0f89d9b4-6a9a-4f48-f761-a905fd67a4cb",
        "colab": {
          "base_uri": "https://localhost:8080/"
        }
      },
      "execution_count": 8,
      "outputs": [
        {
          "output_type": "stream",
          "name": "stdout",
          "text": [
            "{'新北市': 670270, '臺中市': 536710, '高雄市': 424170, '臺南市': 393900, '桃園市': 331940, '臺北市': 322490, '彰化縣': 219400, '雲林縣': 196990, '屏東縣': 184250, '苗栗縣': 131080, '嘉義縣': 113180, '嘉義市': 107840, '宜蘭縣': 106900, '南投縣': 91240, '基隆市': 80100, '': 69210, '花蓮縣': 57330, '新竹縣': 51350, '新竹市': 45630, '臺東縣': 28510, '金門縣': 15510, '澎湖縣': 12600, '連江縣': 7930}\n"
          ]
        }
      ]
    }
  ]
}