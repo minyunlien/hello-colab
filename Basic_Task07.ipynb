{
  "nbformat": 4,
  "nbformat_minor": 0,
  "metadata": {
    "colab": {
      "provenance": [],
      "authorship_tag": "ABX9TyPsG65jrCeBqO4V1J/jvDSd",
      "include_colab_link": true
    },
    "kernelspec": {
      "name": "python3",
      "display_name": "Python 3"
    },
    "language_info": {
      "name": "python"
    }
  },
  "cells": [
    {
      "cell_type": "markdown",
      "metadata": {
        "id": "view-in-github",
        "colab_type": "text"
      },
      "source": [
        "<a href=\"https://colab.research.google.com/github/minyunlien/hello-colab/blob/main/Basic_Task07.ipynb\" target=\"_parent\"><img src=\"https://colab.research.google.com/assets/colab-badge.svg\" alt=\"Open In Colab\"/></a>"
      ]
    },
    {
      "cell_type": "markdown",
      "source": [],
      "metadata": {
        "id": "sPGlHUNhRtnq"
      }
    },
    {
      "cell_type": "markdown",
      "source": [
        "Task #07 作業#01 【實作題】口罩資料 API 串接\n",
        "\n",
        "1. 首先試著直接用瀏覽器打開網址，請解釋這個 API 中有哪些資料？這樣資料會想到什麼樣的應用呢？\n",
        "\n",
        "Ans:\n",
        "有藥局的id,名稱,電話,地址,看診時間,成人&小孩口罩數量,更新時間,county, town,cunli, coordinates\n",
        "可以查詢每個country/town有多少藥局,有多少藥局還有口罩,某個時間點,還有多少藥局可以買到口罩\n",
        "\n",
        "2. 請建立一個 Github Repo 與 Colab 綁定（名稱自訂），並且根據以下範例完成第一步驟的資料收集後 Commit 第一個版本："
      ],
      "metadata": {
        "id": "f2S14v3ER8EE"
      }
    },
    {
      "cell_type": "markdown",
      "source": [],
      "metadata": {
        "id": "hwUwZXt4R5vs"
      }
    },
    {
      "cell_type": "code",
      "source": [
        "import requests\n",
        "import json\n",
        "\n",
        "url = 'https://raw.githubusercontent.com/kiang/pharmacies/master/json/points.json'\n",
        "\n",
        "d = requests.get(url)\n",
        "d_json =d.json()\n",
        "data = d_json\n",
        "\n"
      ],
      "metadata": {
        "id": "aCda3t-wSZAD"
      },
      "execution_count": 6,
      "outputs": []
    },
    {
      "cell_type": "markdown",
      "source": [
        "3. 接下來，請你將取回來的資料利用 Python 語法計算各地區的藥局數量，完成後 Commit 成第二個版本："
      ],
      "metadata": {
        "id": "DnnirV1NTxkU"
      }
    },
    {
      "cell_type": "code",
      "source": [
        "med_count = {}\n",
        "\n",
        "for x in data['features']:\n",
        "    county = x['properties']['county']\n",
        "    if county not in med_count:\n",
        "        med_count[county] = 1\n",
        "    else:\n",
        "        med_count[county] +=1\n",
        "print(med_count)"
      ],
      "metadata": {
        "id": "MuNVTSlxTzSj",
        "outputId": "93b7f911-a605-4d69-873a-29c808268b80",
        "colab": {
          "base_uri": "https://localhost:8080/"
        }
      },
      "execution_count": 7,
      "outputs": [
        {
          "output_type": "stream",
          "name": "stdout",
          "text": [
            "{'臺北市': 339, '': 49, '高雄市': 422, '臺中市': 420, '臺南市': 271, '基隆市': 57, '新竹市': 39, '嘉義市': 67, '新北市': 501, '桃園市': 264, '新竹縣': 46, '宜蘭縣': 76, '苗栗縣': 56, '彰化縣': 179, '南投縣': 67, '雲林縣': 129, '嘉義縣': 84, '屏東縣': 140, '澎湖縣': 11, '花蓮縣': 46, '臺東縣': 23, '金門縣': 6, '連江縣': 1}\n"
          ]
        }
      ]
    }
  ]
}