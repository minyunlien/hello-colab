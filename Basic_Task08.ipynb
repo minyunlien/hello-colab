{
  "nbformat": 4,
  "nbformat_minor": 0,
  "metadata": {
    "colab": {
      "provenance": [],
      "authorship_tag": "ABX9TyOi1ZVoDAZCnwW4ShQ7m/qZ",
      "include_colab_link": true
    },
    "kernelspec": {
      "name": "python3",
      "display_name": "Python 3"
    },
    "language_info": {
      "name": "python"
    }
  },
  "cells": [
    {
      "cell_type": "markdown",
      "metadata": {
        "id": "view-in-github",
        "colab_type": "text"
      },
      "source": [
        "<a href=\"https://colab.research.google.com/github/minyunlien/hello-colab/blob/main/Basic_Task08.ipynb\" target=\"_parent\"><img src=\"https://colab.research.google.com/assets/colab-badge.svg\" alt=\"Open In Colab\"/></a>"
      ]
    },
    {
      "cell_type": "markdown",
      "source": [],
      "metadata": {
        "id": "kwi9Q1vyiBOO"
      }
    },
    {
      "cell_type": "markdown",
      "source": [
        "Task #08 作業#01 【實作題】將資料存入資料庫\n",
        "\n",
        "2. 將昨天計算的「各地區的藥局數量」存入資料庫的 `pharmacies` 表格，欄位包含「地區」、「數量」、「新增時間」，在同一個 Repo、Colab 編輯完成後再 Commit 紀錄成一個版本："
      ],
      "metadata": {
        "id": "2TuJiSM5iFET"
      }
    },
    {
      "cell_type": "code",
      "source": [
        "import requests\n",
        "import json\n",
        "import sqlite3\n",
        "import datetime\n",
        "\n",
        "conn = sqlite3.connect('example.db')\n",
        "c = conn.cursor()\n",
        "\n",
        "# 新增且清空資料表\n",
        "c.execute('''CREATE TABLE IF NOT EXISTS pharmacies\n",
        "             (city text, counts integer, createdAt datetime)''')\n",
        "c.execute('''DELETE FROM pharmacies''')\n",
        "conn.commit()\n",
        "\n",
        "# 新增資料\n",
        "url = 'https://raw.githubusercontent.com/kiang/pharmacies/master/json/points.json'\n",
        "\n",
        "get_url = requests.get(url)\n",
        "d_json =get_url.json()\n",
        "data = d_json\n",
        "\n",
        "med_count = {}\n",
        "\n",
        "for d in data['features']:\n",
        "    conunty = d['properties']['county']\n",
        "    if conunty not in med_count:\n",
        "        med_count[conunty] = 1\n",
        "    else:\n",
        "        med_count[conunty] +=1\n",
        "\n",
        "\n",
        "for city, counts in med_count.items():\n",
        "    t = datetime.datetime.now()\n",
        "    print(f\"INSERT INTO pharmacies VALUES ({city}, {counts}, {t})\".format(city=city, counts=counts, t=t))\n",
        "    c.execute(f\"INSERT INTO pharmacies VALUES ('{city}', {counts}, '{t}')\")\n",
        "    conn.commit()\n",
        "\n",
        "\n",
        "# 查詢資料\n",
        "c.execute(\"SELECT * FROM pharmacies\")\n",
        "print(c.fetchall())\n",
        "conn.commit()\n",
        "conn.close()"
      ],
      "metadata": {
        "colab": {
          "base_uri": "https://localhost:8080/"
        },
        "id": "nH8Ev_uZiOGC",
        "outputId": "a865f58d-b650-4dcb-95f5-9342fdf17351"
      },
      "execution_count": 3,
      "outputs": [
        {
          "output_type": "stream",
          "name": "stdout",
          "text": [
            "INSERT INTO pharmacies VALUES (臺北市, 339, 2023-11-08 10:46:16.732252)\n",
            "INSERT INTO pharmacies VALUES (, 49, 2023-11-08 10:46:16.738217)\n",
            "INSERT INTO pharmacies VALUES (高雄市, 422, 2023-11-08 10:46:16.744136)\n",
            "INSERT INTO pharmacies VALUES (臺中市, 420, 2023-11-08 10:46:16.749868)\n",
            "INSERT INTO pharmacies VALUES (臺南市, 271, 2023-11-08 10:46:16.755740)\n",
            "INSERT INTO pharmacies VALUES (基隆市, 57, 2023-11-08 10:46:16.761698)\n",
            "INSERT INTO pharmacies VALUES (新竹市, 39, 2023-11-08 10:46:16.767993)\n",
            "INSERT INTO pharmacies VALUES (嘉義市, 67, 2023-11-08 10:46:16.773674)\n",
            "INSERT INTO pharmacies VALUES (新北市, 501, 2023-11-08 10:46:16.779346)\n",
            "INSERT INTO pharmacies VALUES (桃園市, 264, 2023-11-08 10:46:16.785212)\n",
            "INSERT INTO pharmacies VALUES (新竹縣, 46, 2023-11-08 10:46:16.791231)\n",
            "INSERT INTO pharmacies VALUES (宜蘭縣, 76, 2023-11-08 10:46:16.797173)\n",
            "INSERT INTO pharmacies VALUES (苗栗縣, 56, 2023-11-08 10:46:16.803148)\n",
            "INSERT INTO pharmacies VALUES (彰化縣, 179, 2023-11-08 10:46:16.808946)\n",
            "INSERT INTO pharmacies VALUES (南投縣, 67, 2023-11-08 10:46:16.815102)\n",
            "INSERT INTO pharmacies VALUES (雲林縣, 129, 2023-11-08 10:46:16.821166)\n",
            "INSERT INTO pharmacies VALUES (嘉義縣, 84, 2023-11-08 10:46:16.827196)\n",
            "INSERT INTO pharmacies VALUES (屏東縣, 140, 2023-11-08 10:46:16.833591)\n",
            "INSERT INTO pharmacies VALUES (澎湖縣, 11, 2023-11-08 10:46:16.839683)\n",
            "INSERT INTO pharmacies VALUES (花蓮縣, 46, 2023-11-08 10:46:16.845729)\n",
            "INSERT INTO pharmacies VALUES (臺東縣, 23, 2023-11-08 10:46:16.851639)\n",
            "INSERT INTO pharmacies VALUES (金門縣, 6, 2023-11-08 10:46:16.857463)\n",
            "INSERT INTO pharmacies VALUES (連江縣, 1, 2023-11-08 10:46:16.863264)\n",
            "[('臺北市', 339, '2023-11-08 10:46:16.732252'), ('', 49, '2023-11-08 10:46:16.738217'), ('高雄市', 422, '2023-11-08 10:46:16.744136'), ('臺中市', 420, '2023-11-08 10:46:16.749868'), ('臺南市', 271, '2023-11-08 10:46:16.755740'), ('基隆市', 57, '2023-11-08 10:46:16.761698'), ('新竹市', 39, '2023-11-08 10:46:16.767993'), ('嘉義市', 67, '2023-11-08 10:46:16.773674'), ('新北市', 501, '2023-11-08 10:46:16.779346'), ('桃園市', 264, '2023-11-08 10:46:16.785212'), ('新竹縣', 46, '2023-11-08 10:46:16.791231'), ('宜蘭縣', 76, '2023-11-08 10:46:16.797173'), ('苗栗縣', 56, '2023-11-08 10:46:16.803148'), ('彰化縣', 179, '2023-11-08 10:46:16.808946'), ('南投縣', 67, '2023-11-08 10:46:16.815102'), ('雲林縣', 129, '2023-11-08 10:46:16.821166'), ('嘉義縣', 84, '2023-11-08 10:46:16.827196'), ('屏東縣', 140, '2023-11-08 10:46:16.833591'), ('澎湖縣', 11, '2023-11-08 10:46:16.839683'), ('花蓮縣', 46, '2023-11-08 10:46:16.845729'), ('臺東縣', 23, '2023-11-08 10:46:16.851639'), ('金門縣', 6, '2023-11-08 10:46:16.857463'), ('連江縣', 1, '2023-11-08 10:46:16.863264')]\n"
          ]
        }
      ]
    }
  ]
}